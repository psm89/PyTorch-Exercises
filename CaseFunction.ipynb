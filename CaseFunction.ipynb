{
 "cells": [
  {
   "cell_type": "markdown",
   "metadata": {},
   "source": [
    "# A simple example for a binary classifier"
   ]
  },
  {
   "cell_type": "markdown",
   "metadata": {},
   "source": [
    "We implement a binary classifier using PyTorch to solve a simple problem. \n",
    "\n",
    "We are given a function $f$ defined by \n",
    "$$f: \\mathbb{R}^2 \\to \\mathbb{R}, \\quad f(x_1,x_2) = \\begin{cases} 1 & \\text{if}~ x_1x_2 < 0 \\\\ 0 & \\text{else} \\end{cases}$$\n",
    "\n",
    "The neural network we want to develop shall be able to recognise this pattern. \n",
    "\n",
    "This problem is explained in the paper by <a href=\"https://doi.org/10.1016/j.physrep.2019.09.005\">F. Ruehle / Physics Reports 839 (2020) 1–117</a>. "
   ]
  },
  {
   "cell_type": "markdown",
   "metadata": {},
   "source": [
    "### Libraries"
   ]
  },
  {
   "cell_type": "code",
   "execution_count": 1,
   "metadata": {},
   "outputs": [],
   "source": [
    "import torch\n",
    "import torch.nn as nn\n",
    "import numpy as np\n",
    "import matplotlib.pyplot as plt\n",
    "from torch.autograd import Variable"
   ]
  },
  {
   "cell_type": "markdown",
   "metadata": {},
   "source": [
    "### Creation of training and test data"
   ]
  },
  {
   "cell_type": "markdown",
   "metadata": {},
   "source": [
    "We define a function to create random data. N.B.: If one aims at optimising the training process and the accuracy of the neural network the data used should remain static. In this notebook they are going to change with every new run. But the main goal of this notebook is to illustrate how to get started with as little code as possible. "
   ]
  },
  {
   "cell_type": "code",
   "execution_count": 2,
   "metadata": {},
   "outputs": [],
   "source": [
    "# Function to create training and test data \n",
    "\n",
    "def createdata(samplesize, scalefactor):\n",
    "    X = []\n",
    "    y = []\n",
    "    for i in range(samplesize):\n",
    "        X_vec = scalefactor*np.random.normal(size=2)\n",
    "        X.append(X_vec)\n",
    "        # implementing the logic to relate features and output\n",
    "        if (X_vec[0]*X_vec[1] < 0):\n",
    "            y.append(1)\n",
    "        else:\n",
    "            y.append(0)\n",
    "    \n",
    "    # Converting numpy arrays containing numbers of float32 into torch tensors\n",
    "    X = torch.from_numpy(np.asarray(X).astype(np.float32))\n",
    "    y = torch.from_numpy(np.asarray(y).astype(np.float32))\n",
    "    y = y.view(y.shape[0], 1) # creating a column vector \n",
    "\n",
    "    return X, y\n",
    "    \n",
    "# Test data \n",
    "\n",
    "X_test, y_test = createdata(1000, 10)\n",
    "\n",
    "# Training data \n",
    "\n",
    "X_train, y_train = createdata(100, 10)"
   ]
  },
  {
   "cell_type": "markdown",
   "metadata": {},
   "source": [
    "### Defining the neural network"
   ]
  },
  {
   "cell_type": "markdown",
   "metadata": {},
   "source": [
    "Following the reference we choose a neural network with two hidden layers each having four neurons. For the activation function we choose the sigmoid function. Since we are modeling a map $f: \\mathbb{R}^2 \\to \\mathbb{R}$ the input and output layers have dimensions two and one, respectively. "
   ]
  },
  {
   "cell_type": "code",
   "execution_count": 3,
   "metadata": {},
   "outputs": [
    {
     "data": {
      "text/plain": [
       "Sequential(\n",
       "  (0): Linear(in_features=2, out_features=4, bias=True)\n",
       "  (1): Sigmoid()\n",
       "  (2): Linear(in_features=4, out_features=4, bias=True)\n",
       "  (3): Sigmoid()\n",
       "  (4): Linear(in_features=4, out_features=1, bias=True)\n",
       "  (5): Sigmoid()\n",
       ")"
      ]
     },
     "execution_count": 3,
     "metadata": {},
     "output_type": "execute_result"
    }
   ],
   "source": [
    "# Number of nodes in each layer\n",
    "input_dim = 2\n",
    "hidden1_dim = 4\n",
    "hidden2_dim = 4\n",
    "output_dim = 1\n",
    "# Number of hidden layers and its dimensions suggested by F. Ruehle\n",
    "\n",
    "# Structure\n",
    "model = torch.nn.Sequential(\n",
    "    torch.nn.Linear(input_dim, hidden1_dim),\n",
    "    torch.nn.Sigmoid(),\n",
    "    torch.nn.Linear(hidden1_dim, hidden2_dim),\n",
    "    torch.nn.Sigmoid(),\n",
    "    torch.nn.Linear(hidden2_dim, output_dim),\n",
    "    torch.nn.Sigmoid()\n",
    ")\n",
    "\n",
    "model.train()"
   ]
  },
  {
   "cell_type": "markdown",
   "metadata": {},
   "source": [
    "Note that we could have chosen a very different structure or varying the numbers and dimensions of hidden layers. But we want to keep things simple. "
   ]
  },
  {
   "cell_type": "markdown",
   "metadata": {},
   "source": [
    "### Loss and optimiser"
   ]
  },
  {
   "cell_type": "markdown",
   "metadata": {},
   "source": [
    "We use the stochastic gradient descent (SGD) and the binary cross entropy loss to define the errors. The learning rate has been chosen such that the accuracy in the test becomes sufficiently high. N.B. there are techniques to find the optimal learning rate in a systematic way. "
   ]
  },
  {
   "cell_type": "code",
   "execution_count": 4,
   "metadata": {},
   "outputs": [],
   "source": [
    "learning_rate = 5 # chosen by some trial and error; could be found by some optimisation function\n",
    "\n",
    "criterion = nn.BCELoss() # binary cross entropy loss\n",
    "\n",
    "optimizer = torch.optim.SGD(model.parameters(), lr=learning_rate)  # stochastic gradient descent"
   ]
  },
  {
   "cell_type": "markdown",
   "metadata": {},
   "source": [
    "### The training loop"
   ]
  },
  {
   "cell_type": "markdown",
   "metadata": {},
   "source": [
    "The subsequent code is the canonical way to implement the training of simple neural networks in PyTorch."
   ]
  },
  {
   "cell_type": "code",
   "execution_count": 5,
   "metadata": {},
   "outputs": [
    {
     "name": "stdout",
     "output_type": "stream",
     "text": [
      "epoch: 10, loss = 0.7651\n",
      "epoch: 20, loss = 0.6763\n",
      "epoch: 30, loss = 0.6293\n",
      "epoch: 40, loss = 0.5690\n",
      "epoch: 50, loss = 0.4318\n",
      "epoch: 60, loss = 0.3691\n",
      "epoch: 70, loss = 0.3414\n",
      "epoch: 80, loss = 0.2420\n",
      "epoch: 90, loss = 0.1692\n",
      "epoch: 100, loss = 0.2459\n",
      "epoch: 110, loss = 0.1299\n",
      "epoch: 120, loss = 0.0988\n",
      "epoch: 130, loss = 0.0822\n",
      "epoch: 140, loss = 0.0833\n",
      "epoch: 150, loss = 0.0346\n",
      "epoch: 160, loss = 0.0278\n",
      "epoch: 170, loss = 0.0238\n",
      "epoch: 180, loss = 0.0208\n",
      "epoch: 190, loss = 0.0184\n",
      "epoch: 200, loss = 0.0165\n",
      "epoch: 210, loss = 0.0150\n",
      "epoch: 220, loss = 0.0137\n",
      "epoch: 230, loss = 0.0126\n",
      "epoch: 240, loss = 0.0117\n",
      "epoch: 250, loss = 0.0109\n",
      "epoch: 260, loss = 0.0102\n",
      "epoch: 270, loss = 0.0095\n",
      "epoch: 280, loss = 0.0090\n",
      "epoch: 290, loss = 0.0085\n",
      "epoch: 300, loss = 0.0081\n",
      "epoch: 310, loss = 0.0077\n",
      "epoch: 320, loss = 0.0073\n",
      "epoch: 330, loss = 0.0070\n",
      "epoch: 340, loss = 0.0067\n",
      "epoch: 350, loss = 0.0064\n",
      "epoch: 360, loss = 0.0061\n",
      "epoch: 370, loss = 0.0059\n",
      "epoch: 380, loss = 0.0057\n",
      "epoch: 390, loss = 0.0055\n",
      "epoch: 400, loss = 0.0053\n",
      "epoch: 410, loss = 0.0051\n",
      "epoch: 420, loss = 0.0049\n",
      "epoch: 430, loss = 0.0048\n",
      "epoch: 440, loss = 0.0046\n",
      "epoch: 450, loss = 0.0045\n",
      "epoch: 460, loss = 0.0044\n",
      "epoch: 470, loss = 0.0042\n",
      "epoch: 480, loss = 0.0041\n",
      "epoch: 490, loss = 0.0040\n",
      "epoch: 500, loss = 0.0039\n",
      "Training completed\n"
     ]
    },
    {
     "data": {
      "image/png": "[encoded data removed]",
      "text/plain": [
       "<Figure size 432x288 with 1 Axes>"
      ]
     },
     "metadata": {
      "needs_background": "light"
     },
     "output_type": "display_data"
    }
   ],
   "source": [
    "# Training loop\n",
    "\n",
    "# Implementation of the training \n",
    "\n",
    "Loss = [] # collecting losses in list\n",
    "Epoch = [] # collecting epochs in list\n",
    "num_epochs = 500 # number of total epochs for the training\n",
    "\n",
    "for epoch in range(num_epochs):\n",
    "    \n",
    "    # Forward pass and loss\n",
    "    y_predicted = model(X_train)\n",
    "    loss = criterion(y_predicted, y_train)\n",
    "    \n",
    "    # Backward pass and update\n",
    "    loss.backward()\n",
    "    optimizer.step()\n",
    "\n",
    "    # Zero grad before new step\n",
    "    optimizer.zero_grad()\n",
    "    \n",
    "    # Printing some epochs and the current losses\n",
    "    if (epoch+1) % 10 == 0:\n",
    "        print(f'epoch: {epoch+1}, loss = {loss.item():.4f}')\n",
    "    \n",
    "    # Filling lists for epoch and loss\n",
    "    Epoch.append(epoch)\n",
    "    Loss.append(Variable(loss))\n",
    "    \n",
    "print('Training completed')\n",
    "\n",
    "# Plot of the training errors\n",
    "\n",
    "plt.plot(Epoch, Loss)\n",
    "plt.title('Training errors')\n",
    "plt.xlabel('Epoch')\n",
    "plt.ylabel('Loss')\n",
    "plt.yscale('log')\n",
    "plt.grid(True)\n",
    "plt.show()"
   ]
  },
  {
   "cell_type": "markdown",
   "metadata": {},
   "source": [
    "### The testing"
   ]
  },
  {
   "cell_type": "markdown",
   "metadata": {},
   "source": [
    "We simply count in how many cases of the test data the output of the neural network is wrong. Note that we have to round the output to an integer because, by construction, the output of the neural network is in the set $(0,1)$. "
   ]
  },
  {
   "cell_type": "code",
   "execution_count": 6,
   "metadata": {},
   "outputs": [
    {
     "name": "stdout",
     "output_type": "stream",
     "text": [
      "Accuracy: 0.973\n",
      "Input: tensor([-3.0780,  1.0756])\n",
      "Predicted output (not rounded): tensor([0.9968], grad_fn=<SigmoidBackward>)\n",
      "Actual result: tensor([1.])\n"
     ]
    }
   ],
   "source": [
    "testcases = len(X_test)\n",
    "\n",
    "fail = 0\n",
    "for i in range(testcases):\n",
    "    y_predicted = torch.round(model(X_test[i])) # we round the predicted output \n",
    "    # count fails\n",
    "    if y_predicted != y_test[i]:\n",
    "        fail += 1\n",
    "    \n",
    "accuracy = 1 - fail/testcases # computation of accuracy of the neural network\n",
    "print('Accuracy:', accuracy)\n",
    "\n",
    "# example for illustration \n",
    "print('Input:', X_test[0])\n",
    "print('Predicted output (not rounded):', model(X_test[0]))\n",
    "print('Actual result:', y_test[0])"
   ]
  }
 ],
 "metadata": {
  "kernelspec": {
   "display_name": "Python 3",
   "language": "python",
   "name": "python3"
  },
  "language_info": {
   "codemirror_mode": {
    "name": "ipython",
    "version": 3
   },
   "file_extension": ".py",
   "mimetype": "text/x-python",
   "name": "python",
   "nbconvert_exporter": "python",
   "pygments_lexer": "ipython3",
   "version": "3.8.3"
  }
 },
 "nbformat": 4,
 "nbformat_minor": 4
}
